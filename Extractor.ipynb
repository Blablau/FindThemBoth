{
 "cells": [
  {
   "cell_type": "code",
   "execution_count": 34,
   "metadata": {},
   "outputs": [],
   "source": [
    "import numpy as np\n",
    "import cv2"
   ]
  },
  {
   "cell_type": "code",
   "execution_count": 35,
   "metadata": {},
   "outputs": [
    {
     "ename": "KeyboardInterrupt",
     "evalue": "",
     "output_type": "error",
     "traceback": [
      "\u001b[1;31m---------------------------------------------------------------------------\u001b[0m",
      "\u001b[1;31mKeyboardInterrupt\u001b[0m                         Traceback (most recent call last)",
      "\u001b[1;32m<ipython-input-35-393e6fbb4f8b>\u001b[0m in \u001b[0;36m<module>\u001b[1;34m\u001b[0m\n\u001b[0;32m     25\u001b[0m \u001b[1;33m\u001b[0m\u001b[0m\n\u001b[0;32m     26\u001b[0m \u001b[1;32mfor\u001b[0m \u001b[0mi\u001b[0m \u001b[1;32min\u001b[0m \u001b[0mdesired_frames\u001b[0m\u001b[1;33m:\u001b[0m\u001b[1;33m\u001b[0m\u001b[1;33m\u001b[0m\u001b[0m\n\u001b[1;32m---> 27\u001b[1;33m     \u001b[0mvidcap\u001b[0m\u001b[1;33m.\u001b[0m\u001b[0mset\u001b[0m\u001b[1;33m(\u001b[0m\u001b[1;36m1\u001b[0m\u001b[1;33m,\u001b[0m\u001b[0mi\u001b[0m\u001b[1;33m-\u001b[0m\u001b[1;36m1\u001b[0m\u001b[1;33m)\u001b[0m\u001b[1;33m\u001b[0m\u001b[1;33m\u001b[0m\u001b[0m\n\u001b[0m\u001b[0;32m     28\u001b[0m     \u001b[0msuccess\u001b[0m\u001b[1;33m,\u001b[0m\u001b[0mimage\u001b[0m \u001b[1;33m=\u001b[0m \u001b[0mvidcap\u001b[0m\u001b[1;33m.\u001b[0m\u001b[0mread\u001b[0m\u001b[1;33m(\u001b[0m\u001b[1;36m1\u001b[0m\u001b[1;33m)\u001b[0m         \u001b[1;31m# image is an array of array of [R,G,B] values\u001b[0m\u001b[1;33m\u001b[0m\u001b[1;33m\u001b[0m\u001b[0m\n\u001b[0;32m     29\u001b[0m     \u001b[0mframeId\u001b[0m \u001b[1;33m=\u001b[0m \u001b[0mvidcap\u001b[0m\u001b[1;33m.\u001b[0m\u001b[0mget\u001b[0m\u001b[1;33m(\u001b[0m\u001b[1;36m1\u001b[0m\u001b[1;33m)\u001b[0m                \u001b[1;31m# The 0th frame is often a throw-away\u001b[0m\u001b[1;33m\u001b[0m\u001b[1;33m\u001b[0m\u001b[0m\n",
      "\u001b[1;31mKeyboardInterrupt\u001b[0m: "
     ]
    }
   ],
   "source": [
    "#read images from video\n",
    "#################### Setting up the file ################\n",
    "videoFile = \"./AllShows/Muppets-02-01-01.mp4\"\n",
    "vidcap = cv2.VideoCapture(videoFile)\n",
    "success,image = vidcap.read()\n",
    "\n",
    "#################### Setting up parameters ################\n",
    "\n",
    "#OpenCV is notorious for not being able to good to \n",
    "# predict how many frames are in a video. The point here is just to \n",
    "# populate the \"desired_frames\" list for all the individual frames\n",
    "# you'd like to capture. \n",
    "\n",
    "fps = vidcap.get(cv2.CAP_PROP_FPS)\n",
    "est_video_length_minutes = 1         # Round up if not sure.\n",
    "est_tot_frames = est_video_length_minutes * 60 * fps  # Sets an upper bound # of frames in video clip\n",
    "\n",
    "n = 20                             # Desired interval of frames to include\n",
    "desired_frames = n * np.arange(est_tot_frames) \n",
    "\n",
    "#OurCode\n",
    "frameArray = np.array([])\n",
    "\n",
    "#################### Initiate Process ################\n",
    "\n",
    "for i in desired_frames:\n",
    "    vidcap.set(1,i-1)                      \n",
    "    success,image = vidcap.read(1)         # image is an array of array of [R,G,B] values\n",
    "    frameId = vidcap.get(1)                # The 0th frame is often a throw-away\n",
    "    if success:\n",
    "        np.append(frameArray, np.asarray(image))\n",
    "        cv2.imwrite(\"FolderFrames/AllShows/show1_%d.jpg\" % frameId, image)\n",
    "\n",
    "vidcap.release()\n",
    "print(\"Complete\")"
   ]
  },
  {
   "cell_type": "code",
   "execution_count": null,
   "metadata": {},
   "outputs": [],
   "source": [
    "#read images from video\n",
    "#################### Setting up the file ################\n",
    "videoFile = \"./AllShows/Muppets-02-04-04.mp4\"\n",
    "vidcap = cv2.VideoCapture(videoFile)\n",
    "success,image = vidcap.read()\n",
    "\n",
    "#################### Setting up parameters ################\n",
    "\n",
    "#OpenCV is notorious for not being able to good to \n",
    "# predict how many frames are in a video. The point here is just to \n",
    "# populate the \"desired_frames\" list for all the individual frames\n",
    "# you'd like to capture. \n",
    "\n",
    "fps = vidcap.get(cv2.CAP_PROP_FPS)\n",
    "est_video_length_minutes = 1         # Round up if not sure.\n",
    "est_tot_frames = est_video_length_minutes * 60 * fps  # Sets an upper bound # of frames in video clip\n",
    "\n",
    "n = 20                             # Desired interval of frames to include\n",
    "desired_frames = n * np.arange(est_tot_frames) \n",
    "\n",
    "#OurCode\n",
    "frameArray = np.array([])\n",
    "\n",
    "#################### Initiate Process ################\n",
    "\n",
    "for i in desired_frames:\n",
    "    vidcap.set(1,i-1)                      \n",
    "    success,image = vidcap.read(1)         # image is an array of array of [R,G,B] values\n",
    "    frameId = vidcap.get(1)                # The 0th frame is often a throw-away\n",
    "    if success:\n",
    "        np.append(frameArray, np.asarray(image))\n",
    "        cv2.imwrite(\"FolderFrames/AllShows/show2_%d.jpg\" % frameId, image)\n",
    "\n",
    "vidcap.release()\n",
    "print(\"Complete\")"
   ]
  },
  {
   "cell_type": "code",
   "execution_count": null,
   "metadata": {},
   "outputs": [],
   "source": [
    "#read images from video\n",
    "#################### Setting up the file ################\n",
    "videoFile = \"./AllShows/Muppets-03-04-03.mp4\"\n",
    "vidcap = cv2.VideoCapture(videoFile)\n",
    "success,image = vidcap.read()\n",
    "\n",
    "#################### Setting up parameters ################\n",
    "\n",
    "#OpenCV is notorious for not being able to good to \n",
    "# predict how many frames are in a video. The point here is just to \n",
    "# populate the \"desired_frames\" list for all the individual frames\n",
    "# you'd like to capture. \n",
    "\n",
    "fps = vidcap.get(cv2.CAP_PROP_FPS)\n",
    "est_video_length_minutes = 1         # Round up if not sure.\n",
    "est_tot_frames = est_video_length_minutes * 60 * fps  # Sets an upper bound # of frames in video clip\n",
    "\n",
    "n = 20                             # Desired interval of frames to include\n",
    "desired_frames = n * np.arange(est_tot_frames) \n",
    "\n",
    "#OurCode\n",
    "frameArray = np.array([])\n",
    "\n",
    "#################### Initiate Process ################\n",
    "\n",
    "for i in desired_frames:\n",
    "    vidcap.set(1,i-1)                      \n",
    "    success,image = vidcap.read(1)         # image is an array of array of [R,G,B] values\n",
    "    frameId = vidcap.get(1)                # The 0th frame is often a throw-away\n",
    "    if success:\n",
    "        np.append(frameArray, np.asarray(image))\n",
    "        cv2.imwrite(\"FolderFrames/AllShows/show3_%d.jpg\" % frameId, image)\n",
    "\n",
    "vidcap.release()\n",
    "print(\"Complete\")"
   ]
  }
 ],
 "metadata": {
  "kernelspec": {
   "display_name": "Python 3",
   "language": "python",
   "name": "python3"
  },
  "language_info": {
   "codemirror_mode": {
    "name": "ipython",
    "version": 3
   },
   "file_extension": ".py",
   "mimetype": "text/x-python",
   "name": "python",
   "nbconvert_exporter": "python",
   "pygments_lexer": "ipython3",
   "version": "3.7.6"
  }
 },
 "nbformat": 4,
 "nbformat_minor": 2
}
