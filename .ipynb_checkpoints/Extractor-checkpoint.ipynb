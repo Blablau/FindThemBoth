{
 "cells": [
  {
   "cell_type": "code",
   "execution_count": null,
   "metadata": {},
   "outputs": [],
   "source": [
    "import numpy as np\n",
    "import cv2"
   ]
  },
  {
   "cell_type": "code",
   "execution_count": null,
   "metadata": {},
   "outputs": [],
   "source": [
    "#read images from video\n",
    "#################### Setting up the file ################\n",
    "videoFile = \"./Snippet/1Minute.mp4\"\n",
    "vidcap = cv2.VideoCapture(videoFile)\n",
    "success,image = vidcap.read()\n",
    "\n",
    "#################### Setting up parameters ################\n",
    "\n",
    "#OpenCV is notorious for not being able to good to \n",
    "# predict how many frames are in a video. The point here is just to \n",
    "# populate the \"desired_frames\" list for all the individual frames\n",
    "# you'd like to capture. \n",
    "\n",
    "fps = vidcap.get(cv2.CAP_PROP_FPS)\n",
    "est_video_length_minutes = 1         # Round up if not sure.\n",
    "est_tot_frames = est_video_length_minutes * 60 * fps  # Sets an upper bound # of frames in video clip\n",
    "\n",
    "n = 20                             # Desired interval of frames to include\n",
    "desired_frames = n * np.arange(est_tot_frames) \n",
    "\n",
    "#OurCode\n",
    "frameArray = np.array([])\n",
    "\n",
    "#################### Initiate Process ################\n",
    "\n",
    "for i in desired_frames:\n",
    "    vidcap.set(1,i-1)                      \n",
    "    success,image = vidcap.read(1)         # image is an array of array of [R,G,B] values\n",
    "    frameId = vidcap.get(1)                # The 0th frame is often a throw-away\n",
    "    if success:\n",
    "        np.append(frameArray, np.asarray(image))\n",
    "        cv2.imwrite(\"FolderFrames/frame%d.jpg\" % frameId, image)\n",
    "\n",
    "vidcap.release()\n",
    "print(\"Complete\")\n",
    "print('framearray', frameArray)"
   ]
  },
  {
   "cell_type": "code",
   "execution_count": null,
   "metadata": {},
   "outputs": [],
   "source": [
    "#detect kermit in frame\n",
    "import skvideo \n",
    "skvideo.setFFmpegPath(\"Z:\\JupyterNotebooks\\KermitAndMrsPiggy\\FFmpeg-n4.2.1\")\n",
    "import skvideo.io\n",
    "videodata = skvideo.io.vread(\"./Snippet/1Minute.mp4\")  \n",
    "print(videodata.shape)"
   ]
  },
  {
   "cell_type": "code",
   "execution_count": 25,
   "metadata": {},
   "outputs": [],
   "source": [
    "#evaluation "
   ]
  },
  {
   "cell_type": "code",
   "execution_count": null,
   "metadata": {},
   "outputs": [],
   "source": []
  }
 ],
 "metadata": {
  "kernelspec": {
   "display_name": "Python 3",
   "language": "python",
   "name": "python3"
  },
  "language_info": {
   "codemirror_mode": {
    "name": "ipython",
    "version": 3
   },
   "file_extension": ".py",
   "mimetype": "text/x-python",
   "name": "python",
   "nbconvert_exporter": "python",
   "pygments_lexer": "ipython3",
   "version": "3.6.8"
  }
 },
 "nbformat": 4,
 "nbformat_minor": 2
}
